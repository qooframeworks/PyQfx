{
 "cells": [
  {
   "cell_type": "code",
   "execution_count": 1,
   "metadata": {},
   "outputs": [
    {
     "name": "stdout",
     "output_type": "stream",
     "text": [
      "MySQL Error:  2055: Lost connection to MySQL server at '192.168.56.1:3306', system error: 2 No such file or directory\n",
      "failed to connect MySQL.\n"
     ]
    },
    {
     "ename": "TypeError",
     "evalue": "_exit() missing required argument 'status' (pos 1)",
     "output_type": "error",
     "traceback": [
      "\u001b[0;31m---------------------------------------------------------------------------\u001b[0m",
      "\u001b[0;31mTypeError\u001b[0m                                 Traceback (most recent call last)",
      "\u001b[0;32m<ipython-input-1-3f0efdc78475>\u001b[0m in \u001b[0;36m<module>\u001b[0;34m\u001b[0m\n\u001b[1;32m     16\u001b[0m \u001b[0;32mif\u001b[0m \u001b[0;32mnot\u001b[0m \u001b[0mqfxMySql\u001b[0m\u001b[0;34m.\u001b[0m\u001b[0mconnect\u001b[0m\u001b[0;34m(\u001b[0m\u001b[0;34m)\u001b[0m\u001b[0;34m:\u001b[0m\u001b[0;34m\u001b[0m\u001b[0;34m\u001b[0m\u001b[0m\n\u001b[1;32m     17\u001b[0m     \u001b[0mprint\u001b[0m\u001b[0;34m(\u001b[0m\u001b[0;34m\"failed to connect MySQL.\"\u001b[0m\u001b[0;34m)\u001b[0m\u001b[0;34m\u001b[0m\u001b[0;34m\u001b[0m\u001b[0m\n\u001b[0;32m---> 18\u001b[0;31m     \u001b[0mos\u001b[0m\u001b[0;34m.\u001b[0m\u001b[0m_exit\u001b[0m\u001b[0;34m(\u001b[0m\u001b[0;34m)\u001b[0m\u001b[0;34m\u001b[0m\u001b[0;34m\u001b[0m\u001b[0m\n\u001b[0m\u001b[1;32m     19\u001b[0m \u001b[0;34m\u001b[0m\u001b[0m\n\u001b[1;32m     20\u001b[0m \u001b[0;31m# ----------------------------------------------------------\u001b[0m\u001b[0;34m\u001b[0m\u001b[0;34m\u001b[0m\u001b[0;34m\u001b[0m\u001b[0m\n",
      "\u001b[0;31mTypeError\u001b[0m: _exit() missing required argument 'status' (pos 1)"
     ]
    }
   ],
   "source": [
    "# coding:utf-8\n",
    "#%cd Qfx\n",
    "import os\n",
    "from tqdm import tqdm_notebook as tqdm\n",
    "import statsmodels.api as sm\n",
    "import matplotlib.pyplot as plt\n",
    "import QfxMySql\n",
    "import QfxPriceConfig\n",
    "import QfxPriceHistory\n",
    "import QfxPriceTrend\n",
    "import QfxDecomposer\n",
    "\n",
    "\n",
    "qfxMySqlConfig = QfxMySql.QfxMySqlConfig()\n",
    "qfxMySql = QfxMySql.QfxMySql(qfxMySqlConfig)\n",
    "if not qfxMySql.connect():\n",
    "    print(\"failed to connect MySQL.\")\n",
    "    os._exit()\n",
    "\n",
    "# ----------------------------------------------------------\n",
    "# ひと月分の価格履歴を取得\n",
    "# ----------------------------------------------------------\n",
    "nSamples = 24 * 20 # ひと月分のバーの数をサンプリング数とする\n",
    "# 一週間分の一時間足の数を頻度に設定する。\n",
    "nFrequency = 24 * 5\n",
    "qfxPriceConfig = QfxPriceConfig.QfxPriceConfig(\"USDJPY\", \"PERIOD_H1\", nSamples, nFrequency)\n",
    "qfxDecomposer = QfxDecomposer.QfxDecomposer(qfxMySql, qfxPriceConfig)\n",
    "\n",
    "# 周期解析結果をクリア\n",
    "#qfxDecomposer.clear_analysis()\n",
    "\n",
    "nAnalysisTimes = qfxDecomposer.get_analysis_times()\n",
    "for _ in tqdm(range(nAnalysisTimes)):\n",
    "    if not qfxDecomposer.analyze():\n",
    "        qfxMySql.rollback()\n",
    "        break\n",
    "else:\n",
    "    qfxMySql.commit()\n",
    "    print(\"finished.\")\n",
    "\n",
    "#dtShiftLeft, dtShiftRight, df = qfxDecomposer.load_history()\n",
    "#res = sm.tsa.seasonal_decompose(df.dropna(), freq=nFreq)\n",
    "\n",
    "#dfTrend = res.trend.dropna().tail(1)\n",
    "#dfSeasonal = res.seasonal.dropna().tail(1)\n",
    "#dfResid = res.resid.dropna().tail(1)\n",
    "#print(\"{}, {}\".format(dfTrend.index[0].strftime('%Y-%m-%d %H:%M:%S'), dfTrend.iat[0, 0]))\n",
    "#print(\"{}, {}\".format(dfSeasonal.index[0].strftime('%Y-%m-%d %H:%M:%S'), dfSeasonal.iat[0, 0]))\n",
    "#print(\"{}, {}\".format(dfResid.index[0].strftime('%Y-%m-%d %H:%M:%S'), dfResid.iat[0, 0]))\n",
    "\n",
    "#qfxPriceTrend = QfxPriceTrend.QfxPriceTrend(qfxMySql, \"EURUSD\", \"PERIOD_H1\", nSamples, nFreq)\n",
    "#if not qfxPriceTrend.delete_all():\n",
    "#    print(\"failed to delete_all price_trend\")\n",
    "#    os._exit()\n",
    "\n",
    "#if not qfxPriceTrend.insert(dtShiftLeft, dtShiftRight, dfTrend.index[0], dfTrend.iat[0, 0]):\n",
    "#    print(\"failed to insert price_trend\")\n",
    "#    os._exit()\n",
    "    \n",
    "#dtTrendShiftLeft, dtTrendShiftRight, dtTrendShift = qfxPriceTrend.get_time_first()\n",
    "#print(\"Trend first: {} - {}, {}\".format(dtTrendShiftLeft, dtTrendShiftRight, dtTrendShift))\n",
    "#dtTrendShiftLeft, dtTrendShiftRight, dtTrendShift = qfxPriceTrend.get_time_last()\n",
    "#print(\"Trend last: {} - {}, {}\".format(dtTrendShiftLeft, dtTrendShiftRight, dtTrendShift))\n",
    "    \n",
    "#original = df.dropna() # オリジナルデータ\n",
    "#trend = res.trend # トレンドデータ\n",
    "#seasonal = res.seasonal # 季節性データ\n",
    "#residual = res.resid # 残差データ\n",
    "\n",
    "#plt.figure(figsize=(16, 16)) # グラフ描画枠作成、サイズ指定\n",
    "\n",
    "# オリジナルデータのプロット\n",
    "#plt.subplot(411) # グラフ4行1列の1番目の位置（一番上）\n",
    "#plt.plot(original)\n",
    "#plt.ylabel('Original')\n",
    "\n",
    "# trend データのプロット\n",
    "#plt.subplot(412) # グラフ4行1列の2番目の位置\n",
    "#plt.plot(trend)\n",
    "#plt.ylabel('Trend')\n",
    "\n",
    "# seasonalデータ のプロット\n",
    "#plt.subplot(413) # グラフ4行1列の3番目の位置\n",
    "#plt.plot(seasonal)\n",
    "#plt.ylabel('Seasonality')\n",
    "\n",
    "# residual データのプロット\n",
    "#plt.subplot(414) # グラフ4行1列の4番目の位置（一番下）\n",
    "#plt.plot(residual)\n",
    "#plt.ylabel('Residuals')\n",
    "\n",
    "#plt.tight_layout() # グラフの間隔を自動調整\n",
    "   \n",
    "    \n",
    "if not qfxMySql.disconnect():\n",
    "    print(\"failed to disconnect MySQL.\")\n",
    "#%cd ..\n",
    "\n",
    "    \n",
    "\n",
    "\n"
   ]
  },
  {
   "cell_type": "code",
   "execution_count": 14,
   "metadata": {},
   "outputs": [
    {
     "ename": "FileNotFoundError",
     "evalue": "[Errno 2] No such file or directory: '/home/yukinaga/PycharmProjects/env/Qfx/lib/python3.7/site-packages/Qfx/Config/MySql.ini'",
     "output_type": "error",
     "traceback": [
      "\u001b[0;31m---------------------------------------------------------------------------\u001b[0m",
      "\u001b[0;31mFileNotFoundError\u001b[0m                         Traceback (most recent call last)",
      "\u001b[0;32m<ipython-input-14-28c672bfa509>\u001b[0m in \u001b[0;36m<module>\u001b[0;34m\u001b[0m\n\u001b[0;32m----> 1\u001b[0;31m \u001b[0;32mimport\u001b[0m \u001b[0m__init__\u001b[0m\u001b[0;34m\u001b[0m\u001b[0;34m\u001b[0m\u001b[0m\n\u001b[0m\u001b[1;32m      2\u001b[0m \u001b[0;34m\u001b[0m\u001b[0m\n\u001b[1;32m      3\u001b[0m \u001b[0mprint\u001b[0m\u001b[0;34m(\u001b[0m\u001b[0mcount_total\u001b[0m\u001b[0;34m(\u001b[0m\u001b[0;34m)\u001b[0m\u001b[0;34m)\u001b[0m\u001b[0;34m\u001b[0m\u001b[0;34m\u001b[0m\u001b[0m\n",
      "\u001b[0;32m~/PycharmProjects/Qfx/Qfx/__init__.py\u001b[0m in \u001b[0;36m<module>\u001b[0;34m\u001b[0m\n\u001b[1;32m      4\u001b[0m \u001b[0;32mimport\u001b[0m \u001b[0mpandas\u001b[0m \u001b[0;32mas\u001b[0m \u001b[0mpd\u001b[0m\u001b[0;34m\u001b[0m\u001b[0;34m\u001b[0m\u001b[0m\n\u001b[1;32m      5\u001b[0m \u001b[0;32mfrom\u001b[0m \u001b[0mtqdm\u001b[0m \u001b[0;32mimport\u001b[0m \u001b[0mtqdm\u001b[0m \u001b[0;32mas\u001b[0m \u001b[0mtqdm\u001b[0m\u001b[0;34m\u001b[0m\u001b[0;34m\u001b[0m\u001b[0m\n\u001b[0;32m----> 6\u001b[0;31m \u001b[0;32mfrom\u001b[0m \u001b[0mQfx\u001b[0m \u001b[0;32mimport\u001b[0m \u001b[0mQfxMySql\u001b[0m\u001b[0;34m\u001b[0m\u001b[0;34m\u001b[0m\u001b[0m\n\u001b[0m\u001b[1;32m      7\u001b[0m \u001b[0;32mfrom\u001b[0m \u001b[0mQfx\u001b[0m \u001b[0;32mimport\u001b[0m \u001b[0mQfxDecomposer\u001b[0m\u001b[0;34m\u001b[0m\u001b[0;34m\u001b[0m\u001b[0m\n\u001b[1;32m      8\u001b[0m \u001b[0;32mfrom\u001b[0m \u001b[0mQfx\u001b[0m \u001b[0;32mimport\u001b[0m \u001b[0mQfxPriceConfig\u001b[0m\u001b[0;34m\u001b[0m\u001b[0;34m\u001b[0m\u001b[0m\n",
      "\u001b[0;32m~/PycharmProjects/env/Qfx/lib/python3.7/site-packages/Qfx/__init__.py\u001b[0m in \u001b[0;36m<module>\u001b[0;34m\u001b[0m\n\u001b[1;32m     35\u001b[0m \u001b[0;34m\u001b[0m\u001b[0m\n\u001b[1;32m     36\u001b[0m \u001b[0;34m\u001b[0m\u001b[0m\n\u001b[0;32m---> 37\u001b[0;31m \u001b[0minit\u001b[0m\u001b[0;34m(\u001b[0m\u001b[0;34m)\u001b[0m\u001b[0;34m\u001b[0m\u001b[0;34m\u001b[0m\u001b[0m\n\u001b[0m\u001b[1;32m     38\u001b[0m \u001b[0;34m\u001b[0m\u001b[0m\n\u001b[1;32m     39\u001b[0m \u001b[0;34m\u001b[0m\u001b[0m\n",
      "\u001b[0;32m~/PycharmProjects/env/Qfx/lib/python3.7/site-packages/Qfx/__init__.py\u001b[0m in \u001b[0;36minit\u001b[0;34m()\u001b[0m\n\u001b[1;32m     25\u001b[0m \u001b[0;31m# ==========================================================\u001b[0m\u001b[0;34m\u001b[0m\u001b[0;34m\u001b[0m\u001b[0;34m\u001b[0m\u001b[0m\n\u001b[1;32m     26\u001b[0m \u001b[0;32mdef\u001b[0m \u001b[0minit\u001b[0m\u001b[0;34m(\u001b[0m\u001b[0;34m)\u001b[0m\u001b[0;34m:\u001b[0m\u001b[0;34m\u001b[0m\u001b[0;34m\u001b[0m\u001b[0m\n\u001b[0;32m---> 27\u001b[0;31m     \u001b[0m_qfx_mysql_config\u001b[0m\u001b[0;34m.\u001b[0m\u001b[0mload_config\u001b[0m\u001b[0;34m(\u001b[0m\u001b[0;34m)\u001b[0m     \u001b[0;31m# Load MySql connection settings\u001b[0m\u001b[0;34m\u001b[0m\u001b[0;34m\u001b[0m\u001b[0m\n\u001b[0m\u001b[1;32m     28\u001b[0m \u001b[0;34m\u001b[0m\u001b[0m\n\u001b[1;32m     29\u001b[0m \u001b[0;34m\u001b[0m\u001b[0m\n",
      "\u001b[0;32m~/PycharmProjects/env/Qfx/lib/python3.7/site-packages/Qfx/QfxMySql.py\u001b[0m in \u001b[0;36mload_config\u001b[0;34m(self)\u001b[0m\n\u001b[1;32m     24\u001b[0m         \u001b[0;31m# ==========================================================\u001b[0m\u001b[0;34m\u001b[0m\u001b[0;34m\u001b[0m\u001b[0;34m\u001b[0m\u001b[0m\n\u001b[1;32m     25\u001b[0m         \u001b[0;32mdef\u001b[0m \u001b[0mload_config\u001b[0m\u001b[0;34m(\u001b[0m\u001b[0mself\u001b[0m\u001b[0;34m)\u001b[0m\u001b[0;34m:\u001b[0m\u001b[0;34m\u001b[0m\u001b[0;34m\u001b[0m\u001b[0m\n\u001b[0;32m---> 26\u001b[0;31m                 \u001b[0mbyn_ini\u001b[0m \u001b[0;34m=\u001b[0m \u001b[0mpkg_resources\u001b[0m\u001b[0;34m.\u001b[0m\u001b[0mresource_string\u001b[0m\u001b[0;34m(\u001b[0m\u001b[0;34m\"Qfx\"\u001b[0m\u001b[0;34m,\u001b[0m \u001b[0;34m\"Config/MySql.ini\"\u001b[0m\u001b[0;34m)\u001b[0m              \u001b[0;31m# ファイル内容をバイナリデータで取得\u001b[0m\u001b[0;34m\u001b[0m\u001b[0;34m\u001b[0m\u001b[0m\n\u001b[0m\u001b[1;32m     27\u001b[0m                 \u001b[0mstr_ini\u001b[0m \u001b[0;34m=\u001b[0m \u001b[0mbyn_ini\u001b[0m\u001b[0;34m.\u001b[0m\u001b[0mdecode\u001b[0m\u001b[0;34m(\u001b[0m\u001b[0;34m)\u001b[0m                                                                                              \u001b[0;31m# バイナリデータを文字列に変換\u001b[0m\u001b[0;34m\u001b[0m\u001b[0;34m\u001b[0m\u001b[0m\n\u001b[1;32m     28\u001b[0m                 \u001b[0mcp\u001b[0m\u001b[0;34m:\u001b[0m \u001b[0mconfigparser\u001b[0m\u001b[0;34m.\u001b[0m\u001b[0mConfigParser\u001b[0m \u001b[0;34m=\u001b[0m \u001b[0mconfigparser\u001b[0m\u001b[0;34m.\u001b[0m\u001b[0mConfigParser\u001b[0m\u001b[0;34m(\u001b[0m\u001b[0;34m)\u001b[0m                             \u001b[0;31m# パーサを生成\u001b[0m\u001b[0;34m\u001b[0m\u001b[0;34m\u001b[0m\u001b[0m\n",
      "\u001b[0;32m~/PycharmProjects/env/Qfx/lib/python3.7/site-packages/pkg_resources/__init__.py\u001b[0m in \u001b[0;36mresource_string\u001b[0;34m(self, package_or_requirement, resource_name)\u001b[0m\n\u001b[1;32m   1155\u001b[0m         \u001b[0;34m\"\"\"Return specified resource as a string\"\"\"\u001b[0m\u001b[0;34m\u001b[0m\u001b[0;34m\u001b[0m\u001b[0m\n\u001b[1;32m   1156\u001b[0m         return get_provider(package_or_requirement).get_resource_string(\n\u001b[0;32m-> 1157\u001b[0;31m             \u001b[0mself\u001b[0m\u001b[0;34m,\u001b[0m \u001b[0mresource_name\u001b[0m\u001b[0;34m\u001b[0m\u001b[0;34m\u001b[0m\u001b[0m\n\u001b[0m\u001b[1;32m   1158\u001b[0m         )\n\u001b[1;32m   1159\u001b[0m \u001b[0;34m\u001b[0m\u001b[0m\n",
      "\u001b[0;32m~/PycharmProjects/env/Qfx/lib/python3.7/site-packages/pkg_resources/__init__.py\u001b[0m in \u001b[0;36mget_resource_string\u001b[0;34m(self, manager, resource_name)\u001b[0m\n\u001b[1;32m   1399\u001b[0m \u001b[0;34m\u001b[0m\u001b[0m\n\u001b[1;32m   1400\u001b[0m     \u001b[0;32mdef\u001b[0m \u001b[0mget_resource_string\u001b[0m\u001b[0;34m(\u001b[0m\u001b[0mself\u001b[0m\u001b[0;34m,\u001b[0m \u001b[0mmanager\u001b[0m\u001b[0;34m,\u001b[0m \u001b[0mresource_name\u001b[0m\u001b[0;34m)\u001b[0m\u001b[0;34m:\u001b[0m\u001b[0;34m\u001b[0m\u001b[0;34m\u001b[0m\u001b[0m\n\u001b[0;32m-> 1401\u001b[0;31m         \u001b[0;32mreturn\u001b[0m \u001b[0mself\u001b[0m\u001b[0;34m.\u001b[0m\u001b[0m_get\u001b[0m\u001b[0;34m(\u001b[0m\u001b[0mself\u001b[0m\u001b[0;34m.\u001b[0m\u001b[0m_fn\u001b[0m\u001b[0;34m(\u001b[0m\u001b[0mself\u001b[0m\u001b[0;34m.\u001b[0m\u001b[0mmodule_path\u001b[0m\u001b[0;34m,\u001b[0m \u001b[0mresource_name\u001b[0m\u001b[0;34m)\u001b[0m\u001b[0;34m)\u001b[0m\u001b[0;34m\u001b[0m\u001b[0;34m\u001b[0m\u001b[0m\n\u001b[0m\u001b[1;32m   1402\u001b[0m \u001b[0;34m\u001b[0m\u001b[0m\n\u001b[1;32m   1403\u001b[0m     \u001b[0;32mdef\u001b[0m \u001b[0mhas_resource\u001b[0m\u001b[0;34m(\u001b[0m\u001b[0mself\u001b[0m\u001b[0;34m,\u001b[0m \u001b[0mresource_name\u001b[0m\u001b[0;34m)\u001b[0m\u001b[0;34m:\u001b[0m\u001b[0;34m\u001b[0m\u001b[0;34m\u001b[0m\u001b[0m\n",
      "\u001b[0;32m~/PycharmProjects/env/Qfx/lib/python3.7/site-packages/pkg_resources/__init__.py\u001b[0m in \u001b[0;36m_get\u001b[0;34m(self, path)\u001b[0m\n\u001b[1;32m   1605\u001b[0m \u001b[0;34m\u001b[0m\u001b[0m\n\u001b[1;32m   1606\u001b[0m     \u001b[0;32mdef\u001b[0m \u001b[0m_get\u001b[0m\u001b[0;34m(\u001b[0m\u001b[0mself\u001b[0m\u001b[0;34m,\u001b[0m \u001b[0mpath\u001b[0m\u001b[0;34m)\u001b[0m\u001b[0;34m:\u001b[0m\u001b[0;34m\u001b[0m\u001b[0;34m\u001b[0m\u001b[0m\n\u001b[0;32m-> 1607\u001b[0;31m         \u001b[0;32mwith\u001b[0m \u001b[0mopen\u001b[0m\u001b[0;34m(\u001b[0m\u001b[0mpath\u001b[0m\u001b[0;34m,\u001b[0m \u001b[0;34m'rb'\u001b[0m\u001b[0;34m)\u001b[0m \u001b[0;32mas\u001b[0m \u001b[0mstream\u001b[0m\u001b[0;34m:\u001b[0m\u001b[0;34m\u001b[0m\u001b[0;34m\u001b[0m\u001b[0m\n\u001b[0m\u001b[1;32m   1608\u001b[0m             \u001b[0;32mreturn\u001b[0m \u001b[0mstream\u001b[0m\u001b[0;34m.\u001b[0m\u001b[0mread\u001b[0m\u001b[0;34m(\u001b[0m\u001b[0;34m)\u001b[0m\u001b[0;34m\u001b[0m\u001b[0;34m\u001b[0m\u001b[0m\n\u001b[1;32m   1609\u001b[0m \u001b[0;34m\u001b[0m\u001b[0m\n",
      "\u001b[0;31mFileNotFoundError\u001b[0m: [Errno 2] No such file or directory: '/home/yukinaga/PycharmProjects/env/Qfx/lib/python3.7/site-packages/Qfx/Config/MySql.ini'"
     ]
    }
   ],
   "source": [
    "import __init__\n",
    "\n",
    "print(count_total())\n"
   ]
  },
  {
   "cell_type": "code",
   "execution_count": null,
   "metadata": {},
   "outputs": [],
   "source": []
  }
 ],
 "metadata": {
  "kernelspec": {
   "display_name": "Python 3",
   "language": "python",
   "name": "python3"
  },
  "language_info": {
   "codemirror_mode": {
    "name": "ipython",
    "version": 3
   },
   "file_extension": ".py",
   "mimetype": "text/x-python",
   "name": "python",
   "nbconvert_exporter": "python",
   "pygments_lexer": "ipython3",
   "version": "3.7.3"
  }
 },
 "nbformat": 4,
 "nbformat_minor": 2
}
